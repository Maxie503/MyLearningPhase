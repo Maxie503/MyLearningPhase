{
 "cells": [
  {
   "cell_type": "code",
   "execution_count": 1,
   "id": "d5e70a1a",
   "metadata": {},
   "outputs": [],
   "source": [
    "import pandas as pd\n",
    "import numpy as np"
   ]
  },
  {
   "cell_type": "code",
   "execution_count": 2,
   "id": "eb3cccab",
   "metadata": {},
   "outputs": [],
   "source": [
    "car = pd.read_csv(r\"C:\\Users\\U6056186\\Downloads\\quikr_car.csv\")"
   ]
  },
  {
   "cell_type": "code",
   "execution_count": 3,
   "id": "0335f22d",
   "metadata": {},
   "outputs": [
    {
     "data": {
      "text/html": [
       "<div>\n",
       "<style scoped>\n",
       "    .dataframe tbody tr th:only-of-type {\n",
       "        vertical-align: middle;\n",
       "    }\n",
       "\n",
       "    .dataframe tbody tr th {\n",
       "        vertical-align: top;\n",
       "    }\n",
       "\n",
       "    .dataframe thead th {\n",
       "        text-align: right;\n",
       "    }\n",
       "</style>\n",
       "<table border=\"1\" class=\"dataframe\">\n",
       "  <thead>\n",
       "    <tr style=\"text-align: right;\">\n",
       "      <th></th>\n",
       "      <th>name</th>\n",
       "      <th>company</th>\n",
       "      <th>year</th>\n",
       "      <th>Price</th>\n",
       "      <th>kms_driven</th>\n",
       "      <th>fuel_type</th>\n",
       "    </tr>\n",
       "  </thead>\n",
       "  <tbody>\n",
       "    <tr>\n",
       "      <th>0</th>\n",
       "      <td>Hyundai Santro Xing XO eRLX Euro III</td>\n",
       "      <td>Hyundai</td>\n",
       "      <td>2007</td>\n",
       "      <td>80,000</td>\n",
       "      <td>45,000 kms</td>\n",
       "      <td>Petrol</td>\n",
       "    </tr>\n",
       "    <tr>\n",
       "      <th>1</th>\n",
       "      <td>Mahindra Jeep CL550 MDI</td>\n",
       "      <td>Mahindra</td>\n",
       "      <td>2006</td>\n",
       "      <td>4,25,000</td>\n",
       "      <td>40 kms</td>\n",
       "      <td>Diesel</td>\n",
       "    </tr>\n",
       "    <tr>\n",
       "      <th>2</th>\n",
       "      <td>Maruti Suzuki Alto 800 Vxi</td>\n",
       "      <td>Maruti</td>\n",
       "      <td>2018</td>\n",
       "      <td>Ask For Price</td>\n",
       "      <td>22,000 kms</td>\n",
       "      <td>Petrol</td>\n",
       "    </tr>\n",
       "    <tr>\n",
       "      <th>3</th>\n",
       "      <td>Hyundai Grand i10 Magna 1.2 Kappa VTVT</td>\n",
       "      <td>Hyundai</td>\n",
       "      <td>2014</td>\n",
       "      <td>3,25,000</td>\n",
       "      <td>28,000 kms</td>\n",
       "      <td>Petrol</td>\n",
       "    </tr>\n",
       "    <tr>\n",
       "      <th>4</th>\n",
       "      <td>Ford EcoSport Titanium 1.5L TDCi</td>\n",
       "      <td>Ford</td>\n",
       "      <td>2014</td>\n",
       "      <td>5,75,000</td>\n",
       "      <td>36,000 kms</td>\n",
       "      <td>Diesel</td>\n",
       "    </tr>\n",
       "  </tbody>\n",
       "</table>\n",
       "</div>"
      ],
      "text/plain": [
       "                                     name   company  year          Price  \\\n",
       "0    Hyundai Santro Xing XO eRLX Euro III   Hyundai  2007         80,000   \n",
       "1                 Mahindra Jeep CL550 MDI  Mahindra  2006       4,25,000   \n",
       "2              Maruti Suzuki Alto 800 Vxi    Maruti  2018  Ask For Price   \n",
       "3  Hyundai Grand i10 Magna 1.2 Kappa VTVT   Hyundai  2014       3,25,000   \n",
       "4        Ford EcoSport Titanium 1.5L TDCi      Ford  2014       5,75,000   \n",
       "\n",
       "   kms_driven fuel_type  \n",
       "0  45,000 kms    Petrol  \n",
       "1      40 kms    Diesel  \n",
       "2  22,000 kms    Petrol  \n",
       "3  28,000 kms    Petrol  \n",
       "4  36,000 kms    Diesel  "
      ]
     },
     "execution_count": 3,
     "metadata": {},
     "output_type": "execute_result"
    }
   ],
   "source": [
    "car.head()"
   ]
  },
  {
   "cell_type": "code",
   "execution_count": 4,
   "id": "5d01ed77",
   "metadata": {},
   "outputs": [
    {
     "data": {
      "text/plain": [
       "(892, 6)"
      ]
     },
     "execution_count": 4,
     "metadata": {},
     "output_type": "execute_result"
    }
   ],
   "source": [
    "car.shape"
   ]
  },
  {
   "cell_type": "code",
   "execution_count": 5,
   "id": "df35afa0",
   "metadata": {},
   "outputs": [
    {
     "name": "stdout",
     "output_type": "stream",
     "text": [
      "<class 'pandas.core.frame.DataFrame'>\n",
      "RangeIndex: 892 entries, 0 to 891\n",
      "Data columns (total 6 columns):\n",
      " #   Column      Non-Null Count  Dtype \n",
      "---  ------      --------------  ----- \n",
      " 0   name        892 non-null    object\n",
      " 1   company     892 non-null    object\n",
      " 2   year        892 non-null    object\n",
      " 3   Price       892 non-null    object\n",
      " 4   kms_driven  840 non-null    object\n",
      " 5   fuel_type   837 non-null    object\n",
      "dtypes: object(6)\n",
      "memory usage: 41.9+ KB\n"
     ]
    }
   ],
   "source": [
    "car.info()"
   ]
  },
  {
   "cell_type": "code",
   "execution_count": 6,
   "id": "39269b95",
   "metadata": {},
   "outputs": [
    {
     "data": {
      "text/plain": [
       "array(['Petrol', 'Diesel', nan, 'LPG'], dtype=object)"
      ]
     },
     "execution_count": 6,
     "metadata": {},
     "output_type": "execute_result"
    }
   ],
   "source": [
    "car['fuel_type'].unique()"
   ]
  },
  {
   "cell_type": "markdown",
   "id": "e21db93e",
   "metadata": {},
   "source": [
    "# problems in\n",
    "- car name\n",
    "- company\n",
    "- year\n",
    "\n"
   ]
  },
  {
   "cell_type": "code",
   "execution_count": 7,
   "id": "30e09185",
   "metadata": {},
   "outputs": [],
   "source": [
    "backup = car.copy()"
   ]
  },
  {
   "cell_type": "code",
   "execution_count": 8,
   "id": "a2537b15",
   "metadata": {},
   "outputs": [],
   "source": [
    "# cleanig"
   ]
  },
  {
   "cell_type": "code",
   "execution_count": 9,
   "id": "c4325019",
   "metadata": {},
   "outputs": [
    {
     "data": {
      "text/html": [
       "<div>\n",
       "<style scoped>\n",
       "    .dataframe tbody tr th:only-of-type {\n",
       "        vertical-align: middle;\n",
       "    }\n",
       "\n",
       "    .dataframe tbody tr th {\n",
       "        vertical-align: top;\n",
       "    }\n",
       "\n",
       "    .dataframe thead th {\n",
       "        text-align: right;\n",
       "    }\n",
       "</style>\n",
       "<table border=\"1\" class=\"dataframe\">\n",
       "  <thead>\n",
       "    <tr style=\"text-align: right;\">\n",
       "      <th></th>\n",
       "      <th>name</th>\n",
       "      <th>company</th>\n",
       "      <th>year</th>\n",
       "      <th>Price</th>\n",
       "      <th>kms_driven</th>\n",
       "      <th>fuel_type</th>\n",
       "    </tr>\n",
       "  </thead>\n",
       "  <tbody>\n",
       "    <tr>\n",
       "      <th>0</th>\n",
       "      <td>Hyundai Santro Xing XO eRLX Euro III</td>\n",
       "      <td>Hyundai</td>\n",
       "      <td>2007</td>\n",
       "      <td>80,000</td>\n",
       "      <td>45,000 kms</td>\n",
       "      <td>Petrol</td>\n",
       "    </tr>\n",
       "    <tr>\n",
       "      <th>1</th>\n",
       "      <td>Mahindra Jeep CL550 MDI</td>\n",
       "      <td>Mahindra</td>\n",
       "      <td>2006</td>\n",
       "      <td>4,25,000</td>\n",
       "      <td>40 kms</td>\n",
       "      <td>Diesel</td>\n",
       "    </tr>\n",
       "    <tr>\n",
       "      <th>2</th>\n",
       "      <td>Maruti Suzuki Alto 800 Vxi</td>\n",
       "      <td>Maruti</td>\n",
       "      <td>2018</td>\n",
       "      <td>Ask For Price</td>\n",
       "      <td>22,000 kms</td>\n",
       "      <td>Petrol</td>\n",
       "    </tr>\n",
       "    <tr>\n",
       "      <th>3</th>\n",
       "      <td>Hyundai Grand i10 Magna 1.2 Kappa VTVT</td>\n",
       "      <td>Hyundai</td>\n",
       "      <td>2014</td>\n",
       "      <td>3,25,000</td>\n",
       "      <td>28,000 kms</td>\n",
       "      <td>Petrol</td>\n",
       "    </tr>\n",
       "    <tr>\n",
       "      <th>4</th>\n",
       "      <td>Ford EcoSport Titanium 1.5L TDCi</td>\n",
       "      <td>Ford</td>\n",
       "      <td>2014</td>\n",
       "      <td>5,75,000</td>\n",
       "      <td>36,000 kms</td>\n",
       "      <td>Diesel</td>\n",
       "    </tr>\n",
       "    <tr>\n",
       "      <th>...</th>\n",
       "      <td>...</td>\n",
       "      <td>...</td>\n",
       "      <td>...</td>\n",
       "      <td>...</td>\n",
       "      <td>...</td>\n",
       "      <td>...</td>\n",
       "    </tr>\n",
       "    <tr>\n",
       "      <th>886</th>\n",
       "      <td>Toyota Corolla Altis</td>\n",
       "      <td>Toyota</td>\n",
       "      <td>2009</td>\n",
       "      <td>3,00,000</td>\n",
       "      <td>1,32,000 kms</td>\n",
       "      <td>Petrol</td>\n",
       "    </tr>\n",
       "    <tr>\n",
       "      <th>888</th>\n",
       "      <td>Tata Zest XM Diesel</td>\n",
       "      <td>Tata</td>\n",
       "      <td>2018</td>\n",
       "      <td>2,60,000</td>\n",
       "      <td>27,000 kms</td>\n",
       "      <td>Diesel</td>\n",
       "    </tr>\n",
       "    <tr>\n",
       "      <th>889</th>\n",
       "      <td>Mahindra Quanto C8</td>\n",
       "      <td>Mahindra</td>\n",
       "      <td>2013</td>\n",
       "      <td>3,90,000</td>\n",
       "      <td>40,000 kms</td>\n",
       "      <td>Diesel</td>\n",
       "    </tr>\n",
       "    <tr>\n",
       "      <th>890</th>\n",
       "      <td>Honda Amaze 1.2 E i VTEC</td>\n",
       "      <td>Honda</td>\n",
       "      <td>2014</td>\n",
       "      <td>1,80,000</td>\n",
       "      <td>Petrol</td>\n",
       "      <td>NaN</td>\n",
       "    </tr>\n",
       "    <tr>\n",
       "      <th>891</th>\n",
       "      <td>Chevrolet Sail 1.2 LT ABS</td>\n",
       "      <td>Chevrolet</td>\n",
       "      <td>2014</td>\n",
       "      <td>1,60,000</td>\n",
       "      <td>Petrol</td>\n",
       "      <td>NaN</td>\n",
       "    </tr>\n",
       "  </tbody>\n",
       "</table>\n",
       "<p>842 rows × 6 columns</p>\n",
       "</div>"
      ],
      "text/plain": [
       "                                       name    company  year          Price  \\\n",
       "0      Hyundai Santro Xing XO eRLX Euro III    Hyundai  2007         80,000   \n",
       "1                   Mahindra Jeep CL550 MDI   Mahindra  2006       4,25,000   \n",
       "2                Maruti Suzuki Alto 800 Vxi     Maruti  2018  Ask For Price   \n",
       "3    Hyundai Grand i10 Magna 1.2 Kappa VTVT    Hyundai  2014       3,25,000   \n",
       "4          Ford EcoSport Titanium 1.5L TDCi       Ford  2014       5,75,000   \n",
       "..                                      ...        ...   ...            ...   \n",
       "886                    Toyota Corolla Altis     Toyota  2009       3,00,000   \n",
       "888                     Tata Zest XM Diesel       Tata  2018       2,60,000   \n",
       "889                      Mahindra Quanto C8   Mahindra  2013       3,90,000   \n",
       "890                Honda Amaze 1.2 E i VTEC      Honda  2014       1,80,000   \n",
       "891               Chevrolet Sail 1.2 LT ABS  Chevrolet  2014       1,60,000   \n",
       "\n",
       "       kms_driven fuel_type  \n",
       "0      45,000 kms    Petrol  \n",
       "1          40 kms    Diesel  \n",
       "2      22,000 kms    Petrol  \n",
       "3      28,000 kms    Petrol  \n",
       "4      36,000 kms    Diesel  \n",
       "..            ...       ...  \n",
       "886  1,32,000 kms    Petrol  \n",
       "888    27,000 kms    Diesel  \n",
       "889    40,000 kms    Diesel  \n",
       "890        Petrol       NaN  \n",
       "891        Petrol       NaN  \n",
       "\n",
       "[842 rows x 6 columns]"
      ]
     },
     "execution_count": 9,
     "metadata": {},
     "output_type": "execute_result"
    }
   ],
   "source": [
    "car[car['year'].str.isnumeric()]"
   ]
  },
  {
   "cell_type": "code",
   "execution_count": 10,
   "id": "d910d047",
   "metadata": {},
   "outputs": [],
   "source": [
    "car = car[car['year'].str.isnumeric()]"
   ]
  },
  {
   "cell_type": "code",
   "execution_count": 11,
   "id": "c3d31585",
   "metadata": {},
   "outputs": [],
   "source": [
    "car['year'] = car['year'].astype(int)"
   ]
  },
  {
   "cell_type": "code",
   "execution_count": 12,
   "id": "0bbc2d34",
   "metadata": {},
   "outputs": [],
   "source": [
    "car = car[car['Price']!='Ask For Price']"
   ]
  },
  {
   "cell_type": "code",
   "execution_count": 13,
   "id": "443d8d82",
   "metadata": {},
   "outputs": [],
   "source": [
    "car['Price'] = car['Price'].str.replace(',','').astype(int)"
   ]
  },
  {
   "cell_type": "code",
   "execution_count": 14,
   "id": "42661259",
   "metadata": {},
   "outputs": [
    {
     "name": "stdout",
     "output_type": "stream",
     "text": [
      "<class 'pandas.core.frame.DataFrame'>\n",
      "Int64Index: 819 entries, 0 to 891\n",
      "Data columns (total 6 columns):\n",
      " #   Column      Non-Null Count  Dtype \n",
      "---  ------      --------------  ----- \n",
      " 0   name        819 non-null    object\n",
      " 1   company     819 non-null    object\n",
      " 2   year        819 non-null    int32 \n",
      " 3   Price       819 non-null    int32 \n",
      " 4   kms_driven  819 non-null    object\n",
      " 5   fuel_type   816 non-null    object\n",
      "dtypes: int32(2), object(4)\n",
      "memory usage: 38.4+ KB\n"
     ]
    }
   ],
   "source": [
    "car.info()"
   ]
  },
  {
   "cell_type": "code",
   "execution_count": 15,
   "id": "1e33ea6a",
   "metadata": {},
   "outputs": [],
   "source": [
    "car['kms_driven'] = car['kms_driven'].str.split(' ').str.get(0).str.replace(',','')"
   ]
  },
  {
   "cell_type": "code",
   "execution_count": null,
   "id": "1e532eb1",
   "metadata": {},
   "outputs": [],
   "source": []
  },
  {
   "cell_type": "code",
   "execution_count": 16,
   "id": "db103b74",
   "metadata": {},
   "outputs": [],
   "source": [
    "car=car[car['kms_driven'].str.isnumeric()]"
   ]
  },
  {
   "cell_type": "code",
   "execution_count": 17,
   "id": "c565387c",
   "metadata": {},
   "outputs": [],
   "source": [
    "car['kms_driven']= car['kms_driven'].astype(int)"
   ]
  },
  {
   "cell_type": "code",
   "execution_count": 18,
   "id": "b3ae8c33",
   "metadata": {},
   "outputs": [
    {
     "name": "stdout",
     "output_type": "stream",
     "text": [
      "<class 'pandas.core.frame.DataFrame'>\n",
      "Int64Index: 817 entries, 0 to 889\n",
      "Data columns (total 6 columns):\n",
      " #   Column      Non-Null Count  Dtype \n",
      "---  ------      --------------  ----- \n",
      " 0   name        817 non-null    object\n",
      " 1   company     817 non-null    object\n",
      " 2   year        817 non-null    int32 \n",
      " 3   Price       817 non-null    int32 \n",
      " 4   kms_driven  817 non-null    int32 \n",
      " 5   fuel_type   816 non-null    object\n",
      "dtypes: int32(3), object(3)\n",
      "memory usage: 35.1+ KB\n"
     ]
    }
   ],
   "source": [
    "car.info()"
   ]
  },
  {
   "cell_type": "code",
   "execution_count": 19,
   "id": "675ec405",
   "metadata": {},
   "outputs": [],
   "source": [
    "car = car[~car['fuel_type'].isna()]"
   ]
  },
  {
   "cell_type": "code",
   "execution_count": 20,
   "id": "eeef8bed",
   "metadata": {},
   "outputs": [],
   "source": [
    "car['name'] = car['name'].str.split(' ').str.slice(0,3).str.join(' ')"
   ]
  },
  {
   "cell_type": "code",
   "execution_count": 21,
   "id": "9651a4fa",
   "metadata": {},
   "outputs": [],
   "source": [
    "car.reset_index(drop=True,inplace=True)"
   ]
  },
  {
   "cell_type": "code",
   "execution_count": 22,
   "id": "1a00b049",
   "metadata": {},
   "outputs": [
    {
     "name": "stdout",
     "output_type": "stream",
     "text": [
      "<class 'pandas.core.frame.DataFrame'>\n",
      "RangeIndex: 816 entries, 0 to 815\n",
      "Data columns (total 6 columns):\n",
      " #   Column      Non-Null Count  Dtype \n",
      "---  ------      --------------  ----- \n",
      " 0   name        816 non-null    object\n",
      " 1   company     816 non-null    object\n",
      " 2   year        816 non-null    int32 \n",
      " 3   Price       816 non-null    int32 \n",
      " 4   kms_driven  816 non-null    int32 \n",
      " 5   fuel_type   816 non-null    object\n",
      "dtypes: int32(3), object(3)\n",
      "memory usage: 28.8+ KB\n"
     ]
    }
   ],
   "source": [
    "car.info()"
   ]
  },
  {
   "cell_type": "code",
   "execution_count": 23,
   "id": "ee09df84",
   "metadata": {},
   "outputs": [
    {
     "data": {
      "text/html": [
       "<div>\n",
       "<style scoped>\n",
       "    .dataframe tbody tr th:only-of-type {\n",
       "        vertical-align: middle;\n",
       "    }\n",
       "\n",
       "    .dataframe tbody tr th {\n",
       "        vertical-align: top;\n",
       "    }\n",
       "\n",
       "    .dataframe thead th {\n",
       "        text-align: right;\n",
       "    }\n",
       "</style>\n",
       "<table border=\"1\" class=\"dataframe\">\n",
       "  <thead>\n",
       "    <tr style=\"text-align: right;\">\n",
       "      <th></th>\n",
       "      <th>year</th>\n",
       "      <th>Price</th>\n",
       "      <th>kms_driven</th>\n",
       "    </tr>\n",
       "  </thead>\n",
       "  <tbody>\n",
       "    <tr>\n",
       "      <th>count</th>\n",
       "      <td>816.000000</td>\n",
       "      <td>8.160000e+02</td>\n",
       "      <td>816.000000</td>\n",
       "    </tr>\n",
       "    <tr>\n",
       "      <th>mean</th>\n",
       "      <td>2012.444853</td>\n",
       "      <td>4.117176e+05</td>\n",
       "      <td>46275.531863</td>\n",
       "    </tr>\n",
       "    <tr>\n",
       "      <th>std</th>\n",
       "      <td>4.002992</td>\n",
       "      <td>4.751844e+05</td>\n",
       "      <td>34297.428044</td>\n",
       "    </tr>\n",
       "    <tr>\n",
       "      <th>min</th>\n",
       "      <td>1995.000000</td>\n",
       "      <td>3.000000e+04</td>\n",
       "      <td>0.000000</td>\n",
       "    </tr>\n",
       "    <tr>\n",
       "      <th>25%</th>\n",
       "      <td>2010.000000</td>\n",
       "      <td>1.750000e+05</td>\n",
       "      <td>27000.000000</td>\n",
       "    </tr>\n",
       "    <tr>\n",
       "      <th>50%</th>\n",
       "      <td>2013.000000</td>\n",
       "      <td>2.999990e+05</td>\n",
       "      <td>41000.000000</td>\n",
       "    </tr>\n",
       "    <tr>\n",
       "      <th>75%</th>\n",
       "      <td>2015.000000</td>\n",
       "      <td>4.912500e+05</td>\n",
       "      <td>56818.500000</td>\n",
       "    </tr>\n",
       "    <tr>\n",
       "      <th>max</th>\n",
       "      <td>2019.000000</td>\n",
       "      <td>8.500003e+06</td>\n",
       "      <td>400000.000000</td>\n",
       "    </tr>\n",
       "  </tbody>\n",
       "</table>\n",
       "</div>"
      ],
      "text/plain": [
       "              year         Price     kms_driven\n",
       "count   816.000000  8.160000e+02     816.000000\n",
       "mean   2012.444853  4.117176e+05   46275.531863\n",
       "std       4.002992  4.751844e+05   34297.428044\n",
       "min    1995.000000  3.000000e+04       0.000000\n",
       "25%    2010.000000  1.750000e+05   27000.000000\n",
       "50%    2013.000000  2.999990e+05   41000.000000\n",
       "75%    2015.000000  4.912500e+05   56818.500000\n",
       "max    2019.000000  8.500003e+06  400000.000000"
      ]
     },
     "execution_count": 23,
     "metadata": {},
     "output_type": "execute_result"
    }
   ],
   "source": [
    "car.describe()"
   ]
  },
  {
   "cell_type": "code",
   "execution_count": 24,
   "id": "435d3bbf",
   "metadata": {},
   "outputs": [],
   "source": [
    "car= car[car['Price'] < 6e6]"
   ]
  },
  {
   "cell_type": "code",
   "execution_count": 25,
   "id": "b1279989",
   "metadata": {},
   "outputs": [],
   "source": [
    "car.reset_index(drop=True,inplace=True)"
   ]
  },
  {
   "cell_type": "code",
   "execution_count": 26,
   "id": "cb01b787",
   "metadata": {},
   "outputs": [
    {
     "data": {
      "text/html": [
       "<div>\n",
       "<style scoped>\n",
       "    .dataframe tbody tr th:only-of-type {\n",
       "        vertical-align: middle;\n",
       "    }\n",
       "\n",
       "    .dataframe tbody tr th {\n",
       "        vertical-align: top;\n",
       "    }\n",
       "\n",
       "    .dataframe thead th {\n",
       "        text-align: right;\n",
       "    }\n",
       "</style>\n",
       "<table border=\"1\" class=\"dataframe\">\n",
       "  <thead>\n",
       "    <tr style=\"text-align: right;\">\n",
       "      <th></th>\n",
       "      <th>name</th>\n",
       "      <th>company</th>\n",
       "      <th>year</th>\n",
       "      <th>Price</th>\n",
       "      <th>kms_driven</th>\n",
       "      <th>fuel_type</th>\n",
       "    </tr>\n",
       "  </thead>\n",
       "  <tbody>\n",
       "    <tr>\n",
       "      <th>0</th>\n",
       "      <td>Hyundai Santro Xing</td>\n",
       "      <td>Hyundai</td>\n",
       "      <td>2007</td>\n",
       "      <td>80000</td>\n",
       "      <td>45000</td>\n",
       "      <td>Petrol</td>\n",
       "    </tr>\n",
       "    <tr>\n",
       "      <th>1</th>\n",
       "      <td>Mahindra Jeep CL550</td>\n",
       "      <td>Mahindra</td>\n",
       "      <td>2006</td>\n",
       "      <td>425000</td>\n",
       "      <td>40</td>\n",
       "      <td>Diesel</td>\n",
       "    </tr>\n",
       "    <tr>\n",
       "      <th>2</th>\n",
       "      <td>Hyundai Grand i10</td>\n",
       "      <td>Hyundai</td>\n",
       "      <td>2014</td>\n",
       "      <td>325000</td>\n",
       "      <td>28000</td>\n",
       "      <td>Petrol</td>\n",
       "    </tr>\n",
       "    <tr>\n",
       "      <th>3</th>\n",
       "      <td>Ford EcoSport Titanium</td>\n",
       "      <td>Ford</td>\n",
       "      <td>2014</td>\n",
       "      <td>575000</td>\n",
       "      <td>36000</td>\n",
       "      <td>Diesel</td>\n",
       "    </tr>\n",
       "    <tr>\n",
       "      <th>4</th>\n",
       "      <td>Ford Figo</td>\n",
       "      <td>Ford</td>\n",
       "      <td>2012</td>\n",
       "      <td>175000</td>\n",
       "      <td>41000</td>\n",
       "      <td>Diesel</td>\n",
       "    </tr>\n",
       "    <tr>\n",
       "      <th>...</th>\n",
       "      <td>...</td>\n",
       "      <td>...</td>\n",
       "      <td>...</td>\n",
       "      <td>...</td>\n",
       "      <td>...</td>\n",
       "      <td>...</td>\n",
       "    </tr>\n",
       "    <tr>\n",
       "      <th>810</th>\n",
       "      <td>Maruti Suzuki Ritz</td>\n",
       "      <td>Maruti</td>\n",
       "      <td>2011</td>\n",
       "      <td>270000</td>\n",
       "      <td>50000</td>\n",
       "      <td>Petrol</td>\n",
       "    </tr>\n",
       "    <tr>\n",
       "      <th>811</th>\n",
       "      <td>Tata Indica V2</td>\n",
       "      <td>Tata</td>\n",
       "      <td>2009</td>\n",
       "      <td>110000</td>\n",
       "      <td>30000</td>\n",
       "      <td>Diesel</td>\n",
       "    </tr>\n",
       "    <tr>\n",
       "      <th>812</th>\n",
       "      <td>Toyota Corolla Altis</td>\n",
       "      <td>Toyota</td>\n",
       "      <td>2009</td>\n",
       "      <td>300000</td>\n",
       "      <td>132000</td>\n",
       "      <td>Petrol</td>\n",
       "    </tr>\n",
       "    <tr>\n",
       "      <th>813</th>\n",
       "      <td>Tata Zest XM</td>\n",
       "      <td>Tata</td>\n",
       "      <td>2018</td>\n",
       "      <td>260000</td>\n",
       "      <td>27000</td>\n",
       "      <td>Diesel</td>\n",
       "    </tr>\n",
       "    <tr>\n",
       "      <th>814</th>\n",
       "      <td>Mahindra Quanto C8</td>\n",
       "      <td>Mahindra</td>\n",
       "      <td>2013</td>\n",
       "      <td>390000</td>\n",
       "      <td>40000</td>\n",
       "      <td>Diesel</td>\n",
       "    </tr>\n",
       "  </tbody>\n",
       "</table>\n",
       "<p>815 rows × 6 columns</p>\n",
       "</div>"
      ],
      "text/plain": [
       "                       name   company  year   Price  kms_driven fuel_type\n",
       "0       Hyundai Santro Xing   Hyundai  2007   80000       45000    Petrol\n",
       "1       Mahindra Jeep CL550  Mahindra  2006  425000          40    Diesel\n",
       "2         Hyundai Grand i10   Hyundai  2014  325000       28000    Petrol\n",
       "3    Ford EcoSport Titanium      Ford  2014  575000       36000    Diesel\n",
       "4                 Ford Figo      Ford  2012  175000       41000    Diesel\n",
       "..                      ...       ...   ...     ...         ...       ...\n",
       "810      Maruti Suzuki Ritz    Maruti  2011  270000       50000    Petrol\n",
       "811          Tata Indica V2      Tata  2009  110000       30000    Diesel\n",
       "812    Toyota Corolla Altis    Toyota  2009  300000      132000    Petrol\n",
       "813            Tata Zest XM      Tata  2018  260000       27000    Diesel\n",
       "814      Mahindra Quanto C8  Mahindra  2013  390000       40000    Diesel\n",
       "\n",
       "[815 rows x 6 columns]"
      ]
     },
     "execution_count": 26,
     "metadata": {},
     "output_type": "execute_result"
    }
   ],
   "source": [
    "car"
   ]
  },
  {
   "cell_type": "code",
   "execution_count": 27,
   "id": "dbc9cfb5",
   "metadata": {},
   "outputs": [],
   "source": [
    "cleanedcar = car.copy()"
   ]
  },
  {
   "cell_type": "code",
   "execution_count": 28,
   "id": "850bd33f",
   "metadata": {},
   "outputs": [
    {
     "data": {
      "text/html": [
       "<div>\n",
       "<style scoped>\n",
       "    .dataframe tbody tr th:only-of-type {\n",
       "        vertical-align: middle;\n",
       "    }\n",
       "\n",
       "    .dataframe tbody tr th {\n",
       "        vertical-align: top;\n",
       "    }\n",
       "\n",
       "    .dataframe thead th {\n",
       "        text-align: right;\n",
       "    }\n",
       "</style>\n",
       "<table border=\"1\" class=\"dataframe\">\n",
       "  <thead>\n",
       "    <tr style=\"text-align: right;\">\n",
       "      <th></th>\n",
       "      <th>year</th>\n",
       "      <th>Price</th>\n",
       "      <th>kms_driven</th>\n",
       "    </tr>\n",
       "  </thead>\n",
       "  <tbody>\n",
       "    <tr>\n",
       "      <th>count</th>\n",
       "      <td>815.000000</td>\n",
       "      <td>8.150000e+02</td>\n",
       "      <td>815.000000</td>\n",
       "    </tr>\n",
       "    <tr>\n",
       "      <th>mean</th>\n",
       "      <td>2012.442945</td>\n",
       "      <td>4.017933e+05</td>\n",
       "      <td>46277.096933</td>\n",
       "    </tr>\n",
       "    <tr>\n",
       "      <th>std</th>\n",
       "      <td>4.005079</td>\n",
       "      <td>3.815888e+05</td>\n",
       "      <td>34318.459638</td>\n",
       "    </tr>\n",
       "    <tr>\n",
       "      <th>min</th>\n",
       "      <td>1995.000000</td>\n",
       "      <td>3.000000e+04</td>\n",
       "      <td>0.000000</td>\n",
       "    </tr>\n",
       "    <tr>\n",
       "      <th>25%</th>\n",
       "      <td>2010.000000</td>\n",
       "      <td>1.750000e+05</td>\n",
       "      <td>27000.000000</td>\n",
       "    </tr>\n",
       "    <tr>\n",
       "      <th>50%</th>\n",
       "      <td>2013.000000</td>\n",
       "      <td>2.999990e+05</td>\n",
       "      <td>41000.000000</td>\n",
       "    </tr>\n",
       "    <tr>\n",
       "      <th>75%</th>\n",
       "      <td>2015.000000</td>\n",
       "      <td>4.900000e+05</td>\n",
       "      <td>56879.000000</td>\n",
       "    </tr>\n",
       "    <tr>\n",
       "      <th>max</th>\n",
       "      <td>2019.000000</td>\n",
       "      <td>3.100000e+06</td>\n",
       "      <td>400000.000000</td>\n",
       "    </tr>\n",
       "  </tbody>\n",
       "</table>\n",
       "</div>"
      ],
      "text/plain": [
       "              year         Price     kms_driven\n",
       "count   815.000000  8.150000e+02     815.000000\n",
       "mean   2012.442945  4.017933e+05   46277.096933\n",
       "std       4.005079  3.815888e+05   34318.459638\n",
       "min    1995.000000  3.000000e+04       0.000000\n",
       "25%    2010.000000  1.750000e+05   27000.000000\n",
       "50%    2013.000000  2.999990e+05   41000.000000\n",
       "75%    2015.000000  4.900000e+05   56879.000000\n",
       "max    2019.000000  3.100000e+06  400000.000000"
      ]
     },
     "execution_count": 28,
     "metadata": {},
     "output_type": "execute_result"
    }
   ],
   "source": [
    "cleanedcar.describe()"
   ]
  },
  {
   "cell_type": "code",
   "execution_count": 29,
   "id": "400760f8",
   "metadata": {},
   "outputs": [
    {
     "data": {
      "text/html": [
       "<div>\n",
       "<style scoped>\n",
       "    .dataframe tbody tr th:only-of-type {\n",
       "        vertical-align: middle;\n",
       "    }\n",
       "\n",
       "    .dataframe tbody tr th {\n",
       "        vertical-align: top;\n",
       "    }\n",
       "\n",
       "    .dataframe thead th {\n",
       "        text-align: right;\n",
       "    }\n",
       "</style>\n",
       "<table border=\"1\" class=\"dataframe\">\n",
       "  <thead>\n",
       "    <tr style=\"text-align: right;\">\n",
       "      <th></th>\n",
       "      <th>name</th>\n",
       "      <th>company</th>\n",
       "      <th>year</th>\n",
       "      <th>Price</th>\n",
       "      <th>kms_driven</th>\n",
       "      <th>fuel_type</th>\n",
       "    </tr>\n",
       "  </thead>\n",
       "  <tbody>\n",
       "    <tr>\n",
       "      <th>count</th>\n",
       "      <td>815</td>\n",
       "      <td>815</td>\n",
       "      <td>815.000000</td>\n",
       "      <td>8.150000e+02</td>\n",
       "      <td>815.000000</td>\n",
       "      <td>815</td>\n",
       "    </tr>\n",
       "    <tr>\n",
       "      <th>unique</th>\n",
       "      <td>254</td>\n",
       "      <td>25</td>\n",
       "      <td>NaN</td>\n",
       "      <td>NaN</td>\n",
       "      <td>NaN</td>\n",
       "      <td>3</td>\n",
       "    </tr>\n",
       "    <tr>\n",
       "      <th>top</th>\n",
       "      <td>Maruti Suzuki Swift</td>\n",
       "      <td>Maruti</td>\n",
       "      <td>NaN</td>\n",
       "      <td>NaN</td>\n",
       "      <td>NaN</td>\n",
       "      <td>Petrol</td>\n",
       "    </tr>\n",
       "    <tr>\n",
       "      <th>freq</th>\n",
       "      <td>51</td>\n",
       "      <td>221</td>\n",
       "      <td>NaN</td>\n",
       "      <td>NaN</td>\n",
       "      <td>NaN</td>\n",
       "      <td>428</td>\n",
       "    </tr>\n",
       "    <tr>\n",
       "      <th>mean</th>\n",
       "      <td>NaN</td>\n",
       "      <td>NaN</td>\n",
       "      <td>2012.442945</td>\n",
       "      <td>4.017933e+05</td>\n",
       "      <td>46277.096933</td>\n",
       "      <td>NaN</td>\n",
       "    </tr>\n",
       "    <tr>\n",
       "      <th>std</th>\n",
       "      <td>NaN</td>\n",
       "      <td>NaN</td>\n",
       "      <td>4.005079</td>\n",
       "      <td>3.815888e+05</td>\n",
       "      <td>34318.459638</td>\n",
       "      <td>NaN</td>\n",
       "    </tr>\n",
       "    <tr>\n",
       "      <th>min</th>\n",
       "      <td>NaN</td>\n",
       "      <td>NaN</td>\n",
       "      <td>1995.000000</td>\n",
       "      <td>3.000000e+04</td>\n",
       "      <td>0.000000</td>\n",
       "      <td>NaN</td>\n",
       "    </tr>\n",
       "    <tr>\n",
       "      <th>25%</th>\n",
       "      <td>NaN</td>\n",
       "      <td>NaN</td>\n",
       "      <td>2010.000000</td>\n",
       "      <td>1.750000e+05</td>\n",
       "      <td>27000.000000</td>\n",
       "      <td>NaN</td>\n",
       "    </tr>\n",
       "    <tr>\n",
       "      <th>50%</th>\n",
       "      <td>NaN</td>\n",
       "      <td>NaN</td>\n",
       "      <td>2013.000000</td>\n",
       "      <td>2.999990e+05</td>\n",
       "      <td>41000.000000</td>\n",
       "      <td>NaN</td>\n",
       "    </tr>\n",
       "    <tr>\n",
       "      <th>75%</th>\n",
       "      <td>NaN</td>\n",
       "      <td>NaN</td>\n",
       "      <td>2015.000000</td>\n",
       "      <td>4.900000e+05</td>\n",
       "      <td>56879.000000</td>\n",
       "      <td>NaN</td>\n",
       "    </tr>\n",
       "    <tr>\n",
       "      <th>max</th>\n",
       "      <td>NaN</td>\n",
       "      <td>NaN</td>\n",
       "      <td>2019.000000</td>\n",
       "      <td>3.100000e+06</td>\n",
       "      <td>400000.000000</td>\n",
       "      <td>NaN</td>\n",
       "    </tr>\n",
       "  </tbody>\n",
       "</table>\n",
       "</div>"
      ],
      "text/plain": [
       "                       name company         year         Price     kms_driven  \\\n",
       "count                   815     815   815.000000  8.150000e+02     815.000000   \n",
       "unique                  254      25          NaN           NaN            NaN   \n",
       "top     Maruti Suzuki Swift  Maruti          NaN           NaN            NaN   \n",
       "freq                     51     221          NaN           NaN            NaN   \n",
       "mean                    NaN     NaN  2012.442945  4.017933e+05   46277.096933   \n",
       "std                     NaN     NaN     4.005079  3.815888e+05   34318.459638   \n",
       "min                     NaN     NaN  1995.000000  3.000000e+04       0.000000   \n",
       "25%                     NaN     NaN  2010.000000  1.750000e+05   27000.000000   \n",
       "50%                     NaN     NaN  2013.000000  2.999990e+05   41000.000000   \n",
       "75%                     NaN     NaN  2015.000000  4.900000e+05   56879.000000   \n",
       "max                     NaN     NaN  2019.000000  3.100000e+06  400000.000000   \n",
       "\n",
       "       fuel_type  \n",
       "count        815  \n",
       "unique         3  \n",
       "top       Petrol  \n",
       "freq         428  \n",
       "mean         NaN  \n",
       "std          NaN  \n",
       "min          NaN  \n",
       "25%          NaN  \n",
       "50%          NaN  \n",
       "75%          NaN  \n",
       "max          NaN  "
      ]
     },
     "execution_count": 29,
     "metadata": {},
     "output_type": "execute_result"
    }
   ],
   "source": [
    "cleanedcar.describe(include='all')"
   ]
  },
  {
   "cell_type": "code",
   "execution_count": null,
   "id": "01b8d1f5",
   "metadata": {},
   "outputs": [],
   "source": []
  },
  {
   "cell_type": "markdown",
   "id": "e74f3333",
   "metadata": {},
   "source": [
    "# model"
   ]
  },
  {
   "cell_type": "code",
   "execution_count": 30,
   "id": "5c07ad28",
   "metadata": {},
   "outputs": [],
   "source": [
    "X= car.drop(columns='Price')\n",
    "y=car['Price']"
   ]
  },
  {
   "cell_type": "code",
   "execution_count": 31,
   "id": "65fa1f22",
   "metadata": {},
   "outputs": [],
   "source": [
    "from sklearn.model_selection import train_test_split\n",
    "X_train,X_test,y_train,y_test = train_test_split(X,y,test_size=0.2,\n",
    "                                                 random_state=42)"
   ]
  },
  {
   "cell_type": "code",
   "execution_count": 32,
   "id": "999a7247",
   "metadata": {},
   "outputs": [],
   "source": [
    "from sklearn.linear_model import LinearRegression\n",
    "from sklearn.metrics import r2_score\n",
    "from sklearn.preprocessing import OneHotEncoder\n",
    "from sklearn.compose import make_column_transformer\n",
    "from sklearn.pipeline import make_pipeline"
   ]
  },
  {
   "cell_type": "code",
   "execution_count": 33,
   "id": "20dcb3f3",
   "metadata": {},
   "outputs": [
    {
     "data": {
      "text/html": [
       "<style>#sk-container-id-1 {color: black;}#sk-container-id-1 pre{padding: 0;}#sk-container-id-1 div.sk-toggleable {background-color: white;}#sk-container-id-1 label.sk-toggleable__label {cursor: pointer;display: block;width: 100%;margin-bottom: 0;padding: 0.3em;box-sizing: border-box;text-align: center;}#sk-container-id-1 label.sk-toggleable__label-arrow:before {content: \"▸\";float: left;margin-right: 0.25em;color: #696969;}#sk-container-id-1 label.sk-toggleable__label-arrow:hover:before {color: black;}#sk-container-id-1 div.sk-estimator:hover label.sk-toggleable__label-arrow:before {color: black;}#sk-container-id-1 div.sk-toggleable__content {max-height: 0;max-width: 0;overflow: hidden;text-align: left;background-color: #f0f8ff;}#sk-container-id-1 div.sk-toggleable__content pre {margin: 0.2em;color: black;border-radius: 0.25em;background-color: #f0f8ff;}#sk-container-id-1 input.sk-toggleable__control:checked~div.sk-toggleable__content {max-height: 200px;max-width: 100%;overflow: auto;}#sk-container-id-1 input.sk-toggleable__control:checked~label.sk-toggleable__label-arrow:before {content: \"▾\";}#sk-container-id-1 div.sk-estimator input.sk-toggleable__control:checked~label.sk-toggleable__label {background-color: #d4ebff;}#sk-container-id-1 div.sk-label input.sk-toggleable__control:checked~label.sk-toggleable__label {background-color: #d4ebff;}#sk-container-id-1 input.sk-hidden--visually {border: 0;clip: rect(1px 1px 1px 1px);clip: rect(1px, 1px, 1px, 1px);height: 1px;margin: -1px;overflow: hidden;padding: 0;position: absolute;width: 1px;}#sk-container-id-1 div.sk-estimator {font-family: monospace;background-color: #f0f8ff;border: 1px dotted black;border-radius: 0.25em;box-sizing: border-box;margin-bottom: 0.5em;}#sk-container-id-1 div.sk-estimator:hover {background-color: #d4ebff;}#sk-container-id-1 div.sk-parallel-item::after {content: \"\";width: 100%;border-bottom: 1px solid gray;flex-grow: 1;}#sk-container-id-1 div.sk-label:hover label.sk-toggleable__label {background-color: #d4ebff;}#sk-container-id-1 div.sk-serial::before {content: \"\";position: absolute;border-left: 1px solid gray;box-sizing: border-box;top: 0;bottom: 0;left: 50%;z-index: 0;}#sk-container-id-1 div.sk-serial {display: flex;flex-direction: column;align-items: center;background-color: white;padding-right: 0.2em;padding-left: 0.2em;position: relative;}#sk-container-id-1 div.sk-item {position: relative;z-index: 1;}#sk-container-id-1 div.sk-parallel {display: flex;align-items: stretch;justify-content: center;background-color: white;position: relative;}#sk-container-id-1 div.sk-item::before, #sk-container-id-1 div.sk-parallel-item::before {content: \"\";position: absolute;border-left: 1px solid gray;box-sizing: border-box;top: 0;bottom: 0;left: 50%;z-index: -1;}#sk-container-id-1 div.sk-parallel-item {display: flex;flex-direction: column;z-index: 1;position: relative;background-color: white;}#sk-container-id-1 div.sk-parallel-item:first-child::after {align-self: flex-end;width: 50%;}#sk-container-id-1 div.sk-parallel-item:last-child::after {align-self: flex-start;width: 50%;}#sk-container-id-1 div.sk-parallel-item:only-child::after {width: 0;}#sk-container-id-1 div.sk-dashed-wrapped {border: 1px dashed gray;margin: 0 0.4em 0.5em 0.4em;box-sizing: border-box;padding-bottom: 0.4em;background-color: white;}#sk-container-id-1 div.sk-label label {font-family: monospace;font-weight: bold;display: inline-block;line-height: 1.2em;}#sk-container-id-1 div.sk-label-container {text-align: center;}#sk-container-id-1 div.sk-container {/* jupyter's `normalize.less` sets `[hidden] { display: none; }` but bootstrap.min.css set `[hidden] { display: none !important; }` so we also need the `!important` here to be able to override the default hidden behavior on the sphinx rendered scikit-learn.org. See: https://github.com/scikit-learn/scikit-learn/issues/21755 */display: inline-block !important;position: relative;}#sk-container-id-1 div.sk-text-repr-fallback {display: none;}</style><div id=\"sk-container-id-1\" class=\"sk-top-container\"><div class=\"sk-text-repr-fallback\"><pre>OneHotEncoder()</pre><b>In a Jupyter environment, please rerun this cell to show the HTML representation or trust the notebook. <br />On GitHub, the HTML representation is unable to render, please try loading this page with nbviewer.org.</b></div><div class=\"sk-container\" hidden><div class=\"sk-item\"><div class=\"sk-estimator sk-toggleable\"><input class=\"sk-toggleable__control sk-hidden--visually\" id=\"sk-estimator-id-1\" type=\"checkbox\" checked><label for=\"sk-estimator-id-1\" class=\"sk-toggleable__label sk-toggleable__label-arrow\">OneHotEncoder</label><div class=\"sk-toggleable__content\"><pre>OneHotEncoder()</pre></div></div></div></div></div>"
      ],
      "text/plain": [
       "OneHotEncoder()"
      ]
     },
     "execution_count": 33,
     "metadata": {},
     "output_type": "execute_result"
    }
   ],
   "source": [
    "ohe = OneHotEncoder()\n",
    "ohe.fit(X[['name', 'company','fuel_type']])"
   ]
  },
  {
   "cell_type": "code",
   "execution_count": 34,
   "id": "dbde303e",
   "metadata": {},
   "outputs": [
    {
     "data": {
      "text/plain": [
       "[array(['Audi A3 Cabriolet', 'Audi A4 1.8', 'Audi A4 2.0', 'Audi A6 2.0',\n",
       "        'Audi A8', 'Audi Q3 2.0', 'Audi Q5 2.0', 'Audi Q7', 'BMW 3 Series',\n",
       "        'BMW 5 Series', 'BMW 7 Series', 'BMW X1', 'BMW X1 sDrive20d',\n",
       "        'BMW X1 xDrive20d', 'Chevrolet Beat', 'Chevrolet Beat Diesel',\n",
       "        'Chevrolet Beat LS', 'Chevrolet Beat LT', 'Chevrolet Beat PS',\n",
       "        'Chevrolet Cruze LTZ', 'Chevrolet Enjoy', 'Chevrolet Enjoy 1.4',\n",
       "        'Chevrolet Sail 1.2', 'Chevrolet Sail UVA', 'Chevrolet Spark',\n",
       "        'Chevrolet Spark 1.0', 'Chevrolet Spark LS', 'Chevrolet Spark LT',\n",
       "        'Chevrolet Tavera LS', 'Chevrolet Tavera Neo', 'Datsun GO T',\n",
       "        'Datsun Go Plus', 'Datsun Redi GO', 'Fiat Linea Emotion',\n",
       "        'Fiat Petra ELX', 'Fiat Punto Emotion', 'Force Motors Force',\n",
       "        'Force Motors One', 'Ford EcoSport', 'Ford EcoSport Ambiente',\n",
       "        'Ford EcoSport Titanium', 'Ford EcoSport Trend',\n",
       "        'Ford Endeavor 4x4', 'Ford Fiesta', 'Ford Fiesta SXi', 'Ford Figo',\n",
       "        'Ford Figo Diesel', 'Ford Figo Duratorq', 'Ford Figo Petrol',\n",
       "        'Ford Fusion 1.4', 'Ford Ikon 1.3', 'Ford Ikon 1.6',\n",
       "        'Hindustan Motors Ambassador', 'Honda Accord', 'Honda Amaze',\n",
       "        'Honda Amaze 1.2', 'Honda Amaze 1.5', 'Honda Brio', 'Honda Brio V',\n",
       "        'Honda Brio VX', 'Honda City', 'Honda City 1.5', 'Honda City SV',\n",
       "        'Honda City VX', 'Honda City ZX', 'Honda Jazz S', 'Honda Jazz VX',\n",
       "        'Honda Mobilio', 'Honda Mobilio S', 'Honda WR V', 'Hyundai Accent',\n",
       "        'Hyundai Accent Executive', 'Hyundai Accent GLE',\n",
       "        'Hyundai Accent GLX', 'Hyundai Creta', 'Hyundai Creta 1.6',\n",
       "        'Hyundai Elantra 1.8', 'Hyundai Elantra SX', 'Hyundai Elite i20',\n",
       "        'Hyundai Eon', 'Hyundai Eon D', 'Hyundai Eon Era',\n",
       "        'Hyundai Eon Magna', 'Hyundai Eon Sportz', 'Hyundai Fluidic Verna',\n",
       "        'Hyundai Getz', 'Hyundai Getz GLE', 'Hyundai Getz Prime',\n",
       "        'Hyundai Grand i10', 'Hyundai Santro', 'Hyundai Santro AE',\n",
       "        'Hyundai Santro Xing', 'Hyundai Sonata Transform', 'Hyundai Verna',\n",
       "        'Hyundai Verna 1.4', 'Hyundai Verna 1.6', 'Hyundai Verna Fluidic',\n",
       "        'Hyundai Verna Transform', 'Hyundai Verna VGT',\n",
       "        'Hyundai Xcent Base', 'Hyundai Xcent SX', 'Hyundai i10',\n",
       "        'Hyundai i10 Era', 'Hyundai i10 Magna', 'Hyundai i10 Sportz',\n",
       "        'Hyundai i20', 'Hyundai i20 Active', 'Hyundai i20 Asta',\n",
       "        'Hyundai i20 Magna', 'Hyundai i20 Select', 'Hyundai i20 Sportz',\n",
       "        'Jaguar XE XE', 'Jaguar XF 2.2', 'Jeep Wrangler Unlimited',\n",
       "        'Land Rover Freelander', 'Mahindra Bolero DI',\n",
       "        'Mahindra Bolero Power', 'Mahindra Bolero SLE',\n",
       "        'Mahindra Jeep CL550', 'Mahindra Jeep MM', 'Mahindra KUV100',\n",
       "        'Mahindra KUV100 K8', 'Mahindra Logan', 'Mahindra Logan Diesel',\n",
       "        'Mahindra Quanto C4', 'Mahindra Quanto C8', 'Mahindra Scorpio',\n",
       "        'Mahindra Scorpio 2.6', 'Mahindra Scorpio LX',\n",
       "        'Mahindra Scorpio S10', 'Mahindra Scorpio S4',\n",
       "        'Mahindra Scorpio SLE', 'Mahindra Scorpio SLX',\n",
       "        'Mahindra Scorpio VLX', 'Mahindra Scorpio Vlx',\n",
       "        'Mahindra Scorpio W', 'Mahindra TUV300 T4', 'Mahindra TUV300 T8',\n",
       "        'Mahindra Thar CRDe', 'Mahindra XUV500', 'Mahindra XUV500 W10',\n",
       "        'Mahindra XUV500 W6', 'Mahindra XUV500 W8', 'Mahindra Xylo D2',\n",
       "        'Mahindra Xylo E4', 'Mahindra Xylo E8', 'Maruti Suzuki 800',\n",
       "        'Maruti Suzuki A', 'Maruti Suzuki Alto', 'Maruti Suzuki Baleno',\n",
       "        'Maruti Suzuki Celerio', 'Maruti Suzuki Ciaz',\n",
       "        'Maruti Suzuki Dzire', 'Maruti Suzuki Eeco',\n",
       "        'Maruti Suzuki Ertiga', 'Maruti Suzuki Esteem',\n",
       "        'Maruti Suzuki Estilo', 'Maruti Suzuki Maruti',\n",
       "        'Maruti Suzuki Omni', 'Maruti Suzuki Ritz', 'Maruti Suzuki S',\n",
       "        'Maruti Suzuki SX4', 'Maruti Suzuki Stingray',\n",
       "        'Maruti Suzuki Swift', 'Maruti Suzuki Versa',\n",
       "        'Maruti Suzuki Vitara', 'Maruti Suzuki Wagon', 'Maruti Suzuki Zen',\n",
       "        'Mercedes Benz A', 'Mercedes Benz B', 'Mercedes Benz C',\n",
       "        'Mercedes Benz GLA', 'Mini Cooper S', 'Mitsubishi Lancer 1.8',\n",
       "        'Mitsubishi Pajero Sport', 'Nissan Micra XL', 'Nissan Micra XV',\n",
       "        'Nissan Sunny', 'Nissan Sunny XL', 'Nissan Terrano XL',\n",
       "        'Nissan X Trail', 'Renault Duster', 'Renault Duster 110',\n",
       "        'Renault Duster 110PS', 'Renault Duster 85', 'Renault Duster 85PS',\n",
       "        'Renault Duster RxL', 'Renault Kwid', 'Renault Kwid 1.0',\n",
       "        'Renault Kwid RXT', 'Renault Lodgy 85', 'Renault Scala RxL',\n",
       "        'Skoda Fabia', 'Skoda Fabia 1.2L', 'Skoda Fabia Classic',\n",
       "        'Skoda Laura', 'Skoda Octavia Classic', 'Skoda Rapid Elegance',\n",
       "        'Skoda Superb 1.8', 'Skoda Yeti Ambition', 'Tata Aria Pleasure',\n",
       "        'Tata Bolt XM', 'Tata Indica', 'Tata Indica V2', 'Tata Indica eV2',\n",
       "        'Tata Indigo CS', 'Tata Indigo LS', 'Tata Indigo LX',\n",
       "        'Tata Indigo Marina', 'Tata Indigo eCS', 'Tata Manza',\n",
       "        'Tata Manza Aqua', 'Tata Manza Aura', 'Tata Manza ELAN',\n",
       "        'Tata Nano', 'Tata Nano Cx', 'Tata Nano GenX', 'Tata Nano LX',\n",
       "        'Tata Nano Lx', 'Tata Sumo Gold', 'Tata Sumo Grande',\n",
       "        'Tata Sumo Victa', 'Tata Tiago Revotorq', 'Tata Tiago Revotron',\n",
       "        'Tata Tigor Revotron', 'Tata Venture EX', 'Tata Vista Quadrajet',\n",
       "        'Tata Zest Quadrajet', 'Tata Zest XE', 'Tata Zest XM',\n",
       "        'Toyota Corolla', 'Toyota Corolla Altis', 'Toyota Corolla H2',\n",
       "        'Toyota Etios', 'Toyota Etios G', 'Toyota Etios GD',\n",
       "        'Toyota Etios Liva', 'Toyota Fortuner', 'Toyota Fortuner 3.0',\n",
       "        'Toyota Innova 2.0', 'Toyota Innova 2.5', 'Toyota Qualis',\n",
       "        'Volkswagen Jetta Comfortline', 'Volkswagen Jetta Highline',\n",
       "        'Volkswagen Passat Diesel', 'Volkswagen Polo',\n",
       "        'Volkswagen Polo Comfortline', 'Volkswagen Polo Highline',\n",
       "        'Volkswagen Polo Highline1.2L', 'Volkswagen Polo Trendline',\n",
       "        'Volkswagen Vento Comfortline', 'Volkswagen Vento Highline',\n",
       "        'Volkswagen Vento Konekt', 'Volvo S80 Summum'], dtype=object),\n",
       " array(['Audi', 'BMW', 'Chevrolet', 'Datsun', 'Fiat', 'Force', 'Ford',\n",
       "        'Hindustan', 'Honda', 'Hyundai', 'Jaguar', 'Jeep', 'Land',\n",
       "        'Mahindra', 'Maruti', 'Mercedes', 'Mini', 'Mitsubishi', 'Nissan',\n",
       "        'Renault', 'Skoda', 'Tata', 'Toyota', 'Volkswagen', 'Volvo'],\n",
       "       dtype=object),\n",
       " array(['Diesel', 'LPG', 'Petrol'], dtype=object)]"
      ]
     },
     "execution_count": 34,
     "metadata": {},
     "output_type": "execute_result"
    }
   ],
   "source": [
    "ohe.categories_"
   ]
  },
  {
   "cell_type": "code",
   "execution_count": 35,
   "id": "a84e0c72",
   "metadata": {},
   "outputs": [],
   "source": [
    "lr = LinearRegression()"
   ]
  },
  {
   "cell_type": "code",
   "execution_count": 36,
   "id": "e2810dbb",
   "metadata": {},
   "outputs": [],
   "source": [
    "col_trans = make_column_transformer((OneHotEncoder(categories=ohe.categories_),['name', 'company','fuel_type']),\n",
    "                                    remainder='passthrough')"
   ]
  },
  {
   "cell_type": "code",
   "execution_count": 37,
   "id": "f1804bbd",
   "metadata": {},
   "outputs": [],
   "source": [
    "pipe = make_pipeline(col_trans,lr)"
   ]
  },
  {
   "cell_type": "code",
   "execution_count": 38,
   "id": "9a0bfa05",
   "metadata": {},
   "outputs": [
    {
     "data": {
      "text/html": [
       "<style>#sk-container-id-2 {color: black;}#sk-container-id-2 pre{padding: 0;}#sk-container-id-2 div.sk-toggleable {background-color: white;}#sk-container-id-2 label.sk-toggleable__label {cursor: pointer;display: block;width: 100%;margin-bottom: 0;padding: 0.3em;box-sizing: border-box;text-align: center;}#sk-container-id-2 label.sk-toggleable__label-arrow:before {content: \"▸\";float: left;margin-right: 0.25em;color: #696969;}#sk-container-id-2 label.sk-toggleable__label-arrow:hover:before {color: black;}#sk-container-id-2 div.sk-estimator:hover label.sk-toggleable__label-arrow:before {color: black;}#sk-container-id-2 div.sk-toggleable__content {max-height: 0;max-width: 0;overflow: hidden;text-align: left;background-color: #f0f8ff;}#sk-container-id-2 div.sk-toggleable__content pre {margin: 0.2em;color: black;border-radius: 0.25em;background-color: #f0f8ff;}#sk-container-id-2 input.sk-toggleable__control:checked~div.sk-toggleable__content {max-height: 200px;max-width: 100%;overflow: auto;}#sk-container-id-2 input.sk-toggleable__control:checked~label.sk-toggleable__label-arrow:before {content: \"▾\";}#sk-container-id-2 div.sk-estimator input.sk-toggleable__control:checked~label.sk-toggleable__label {background-color: #d4ebff;}#sk-container-id-2 div.sk-label input.sk-toggleable__control:checked~label.sk-toggleable__label {background-color: #d4ebff;}#sk-container-id-2 input.sk-hidden--visually {border: 0;clip: rect(1px 1px 1px 1px);clip: rect(1px, 1px, 1px, 1px);height: 1px;margin: -1px;overflow: hidden;padding: 0;position: absolute;width: 1px;}#sk-container-id-2 div.sk-estimator {font-family: monospace;background-color: #f0f8ff;border: 1px dotted black;border-radius: 0.25em;box-sizing: border-box;margin-bottom: 0.5em;}#sk-container-id-2 div.sk-estimator:hover {background-color: #d4ebff;}#sk-container-id-2 div.sk-parallel-item::after {content: \"\";width: 100%;border-bottom: 1px solid gray;flex-grow: 1;}#sk-container-id-2 div.sk-label:hover label.sk-toggleable__label {background-color: #d4ebff;}#sk-container-id-2 div.sk-serial::before {content: \"\";position: absolute;border-left: 1px solid gray;box-sizing: border-box;top: 0;bottom: 0;left: 50%;z-index: 0;}#sk-container-id-2 div.sk-serial {display: flex;flex-direction: column;align-items: center;background-color: white;padding-right: 0.2em;padding-left: 0.2em;position: relative;}#sk-container-id-2 div.sk-item {position: relative;z-index: 1;}#sk-container-id-2 div.sk-parallel {display: flex;align-items: stretch;justify-content: center;background-color: white;position: relative;}#sk-container-id-2 div.sk-item::before, #sk-container-id-2 div.sk-parallel-item::before {content: \"\";position: absolute;border-left: 1px solid gray;box-sizing: border-box;top: 0;bottom: 0;left: 50%;z-index: -1;}#sk-container-id-2 div.sk-parallel-item {display: flex;flex-direction: column;z-index: 1;position: relative;background-color: white;}#sk-container-id-2 div.sk-parallel-item:first-child::after {align-self: flex-end;width: 50%;}#sk-container-id-2 div.sk-parallel-item:last-child::after {align-self: flex-start;width: 50%;}#sk-container-id-2 div.sk-parallel-item:only-child::after {width: 0;}#sk-container-id-2 div.sk-dashed-wrapped {border: 1px dashed gray;margin: 0 0.4em 0.5em 0.4em;box-sizing: border-box;padding-bottom: 0.4em;background-color: white;}#sk-container-id-2 div.sk-label label {font-family: monospace;font-weight: bold;display: inline-block;line-height: 1.2em;}#sk-container-id-2 div.sk-label-container {text-align: center;}#sk-container-id-2 div.sk-container {/* jupyter's `normalize.less` sets `[hidden] { display: none; }` but bootstrap.min.css set `[hidden] { display: none !important; }` so we also need the `!important` here to be able to override the default hidden behavior on the sphinx rendered scikit-learn.org. See: https://github.com/scikit-learn/scikit-learn/issues/21755 */display: inline-block !important;position: relative;}#sk-container-id-2 div.sk-text-repr-fallback {display: none;}</style><div id=\"sk-container-id-2\" class=\"sk-top-container\"><div class=\"sk-text-repr-fallback\"><pre>Pipeline(steps=[(&#x27;columntransformer&#x27;,\n",
       "                 ColumnTransformer(remainder=&#x27;passthrough&#x27;,\n",
       "                                   transformers=[(&#x27;onehotencoder&#x27;,\n",
       "                                                  OneHotEncoder(categories=[array([&#x27;Audi A3 Cabriolet&#x27;, &#x27;Audi A4 1.8&#x27;, &#x27;Audi A4 2.0&#x27;, &#x27;Audi A6 2.0&#x27;,\n",
       "       &#x27;Audi A8&#x27;, &#x27;Audi Q3 2.0&#x27;, &#x27;Audi Q5 2.0&#x27;, &#x27;Audi Q7&#x27;, &#x27;BMW 3 Series&#x27;,\n",
       "       &#x27;BMW 5 Series&#x27;, &#x27;BMW 7 Series&#x27;, &#x27;BMW X1&#x27;, &#x27;BMW X1 sDrive20d&#x27;,\n",
       "       &#x27;BMW X1 xDrive20d&#x27;, &#x27;Chevrolet Beat&#x27;, &#x27;Chevrolet Beat...\n",
       "                                                                            array([&#x27;Audi&#x27;, &#x27;BMW&#x27;, &#x27;Chevrolet&#x27;, &#x27;Datsun&#x27;, &#x27;Fiat&#x27;, &#x27;Force&#x27;, &#x27;Ford&#x27;,\n",
       "       &#x27;Hindustan&#x27;, &#x27;Honda&#x27;, &#x27;Hyundai&#x27;, &#x27;Jaguar&#x27;, &#x27;Jeep&#x27;, &#x27;Land&#x27;,\n",
       "       &#x27;Mahindra&#x27;, &#x27;Maruti&#x27;, &#x27;Mercedes&#x27;, &#x27;Mini&#x27;, &#x27;Mitsubishi&#x27;, &#x27;Nissan&#x27;,\n",
       "       &#x27;Renault&#x27;, &#x27;Skoda&#x27;, &#x27;Tata&#x27;, &#x27;Toyota&#x27;, &#x27;Volkswagen&#x27;, &#x27;Volvo&#x27;],\n",
       "      dtype=object),\n",
       "                                                                            array([&#x27;Diesel&#x27;, &#x27;LPG&#x27;, &#x27;Petrol&#x27;], dtype=object)]),\n",
       "                                                  [&#x27;name&#x27;, &#x27;company&#x27;,\n",
       "                                                   &#x27;fuel_type&#x27;])])),\n",
       "                (&#x27;linearregression&#x27;, LinearRegression())])</pre><b>In a Jupyter environment, please rerun this cell to show the HTML representation or trust the notebook. <br />On GitHub, the HTML representation is unable to render, please try loading this page with nbviewer.org.</b></div><div class=\"sk-container\" hidden><div class=\"sk-item sk-dashed-wrapped\"><div class=\"sk-label-container\"><div class=\"sk-label sk-toggleable\"><input class=\"sk-toggleable__control sk-hidden--visually\" id=\"sk-estimator-id-2\" type=\"checkbox\" ><label for=\"sk-estimator-id-2\" class=\"sk-toggleable__label sk-toggleable__label-arrow\">Pipeline</label><div class=\"sk-toggleable__content\"><pre>Pipeline(steps=[(&#x27;columntransformer&#x27;,\n",
       "                 ColumnTransformer(remainder=&#x27;passthrough&#x27;,\n",
       "                                   transformers=[(&#x27;onehotencoder&#x27;,\n",
       "                                                  OneHotEncoder(categories=[array([&#x27;Audi A3 Cabriolet&#x27;, &#x27;Audi A4 1.8&#x27;, &#x27;Audi A4 2.0&#x27;, &#x27;Audi A6 2.0&#x27;,\n",
       "       &#x27;Audi A8&#x27;, &#x27;Audi Q3 2.0&#x27;, &#x27;Audi Q5 2.0&#x27;, &#x27;Audi Q7&#x27;, &#x27;BMW 3 Series&#x27;,\n",
       "       &#x27;BMW 5 Series&#x27;, &#x27;BMW 7 Series&#x27;, &#x27;BMW X1&#x27;, &#x27;BMW X1 sDrive20d&#x27;,\n",
       "       &#x27;BMW X1 xDrive20d&#x27;, &#x27;Chevrolet Beat&#x27;, &#x27;Chevrolet Beat...\n",
       "                                                                            array([&#x27;Audi&#x27;, &#x27;BMW&#x27;, &#x27;Chevrolet&#x27;, &#x27;Datsun&#x27;, &#x27;Fiat&#x27;, &#x27;Force&#x27;, &#x27;Ford&#x27;,\n",
       "       &#x27;Hindustan&#x27;, &#x27;Honda&#x27;, &#x27;Hyundai&#x27;, &#x27;Jaguar&#x27;, &#x27;Jeep&#x27;, &#x27;Land&#x27;,\n",
       "       &#x27;Mahindra&#x27;, &#x27;Maruti&#x27;, &#x27;Mercedes&#x27;, &#x27;Mini&#x27;, &#x27;Mitsubishi&#x27;, &#x27;Nissan&#x27;,\n",
       "       &#x27;Renault&#x27;, &#x27;Skoda&#x27;, &#x27;Tata&#x27;, &#x27;Toyota&#x27;, &#x27;Volkswagen&#x27;, &#x27;Volvo&#x27;],\n",
       "      dtype=object),\n",
       "                                                                            array([&#x27;Diesel&#x27;, &#x27;LPG&#x27;, &#x27;Petrol&#x27;], dtype=object)]),\n",
       "                                                  [&#x27;name&#x27;, &#x27;company&#x27;,\n",
       "                                                   &#x27;fuel_type&#x27;])])),\n",
       "                (&#x27;linearregression&#x27;, LinearRegression())])</pre></div></div></div><div class=\"sk-serial\"><div class=\"sk-item sk-dashed-wrapped\"><div class=\"sk-label-container\"><div class=\"sk-label sk-toggleable\"><input class=\"sk-toggleable__control sk-hidden--visually\" id=\"sk-estimator-id-3\" type=\"checkbox\" ><label for=\"sk-estimator-id-3\" class=\"sk-toggleable__label sk-toggleable__label-arrow\">columntransformer: ColumnTransformer</label><div class=\"sk-toggleable__content\"><pre>ColumnTransformer(remainder=&#x27;passthrough&#x27;,\n",
       "                  transformers=[(&#x27;onehotencoder&#x27;,\n",
       "                                 OneHotEncoder(categories=[array([&#x27;Audi A3 Cabriolet&#x27;, &#x27;Audi A4 1.8&#x27;, &#x27;Audi A4 2.0&#x27;, &#x27;Audi A6 2.0&#x27;,\n",
       "       &#x27;Audi A8&#x27;, &#x27;Audi Q3 2.0&#x27;, &#x27;Audi Q5 2.0&#x27;, &#x27;Audi Q7&#x27;, &#x27;BMW 3 Series&#x27;,\n",
       "       &#x27;BMW 5 Series&#x27;, &#x27;BMW 7 Series&#x27;, &#x27;BMW X1&#x27;, &#x27;BMW X1 sDrive20d&#x27;,\n",
       "       &#x27;BMW X1 xDrive20d&#x27;, &#x27;Chevrolet Beat&#x27;, &#x27;Chevrolet Beat Diesel&#x27;,\n",
       "       &#x27;Chevrolet Beat LS&#x27;, &#x27;Chevrolet B...\n",
       "       &#x27;Volkswagen Vento Konekt&#x27;, &#x27;Volvo S80 Summum&#x27;], dtype=object),\n",
       "                                                           array([&#x27;Audi&#x27;, &#x27;BMW&#x27;, &#x27;Chevrolet&#x27;, &#x27;Datsun&#x27;, &#x27;Fiat&#x27;, &#x27;Force&#x27;, &#x27;Ford&#x27;,\n",
       "       &#x27;Hindustan&#x27;, &#x27;Honda&#x27;, &#x27;Hyundai&#x27;, &#x27;Jaguar&#x27;, &#x27;Jeep&#x27;, &#x27;Land&#x27;,\n",
       "       &#x27;Mahindra&#x27;, &#x27;Maruti&#x27;, &#x27;Mercedes&#x27;, &#x27;Mini&#x27;, &#x27;Mitsubishi&#x27;, &#x27;Nissan&#x27;,\n",
       "       &#x27;Renault&#x27;, &#x27;Skoda&#x27;, &#x27;Tata&#x27;, &#x27;Toyota&#x27;, &#x27;Volkswagen&#x27;, &#x27;Volvo&#x27;],\n",
       "      dtype=object),\n",
       "                                                           array([&#x27;Diesel&#x27;, &#x27;LPG&#x27;, &#x27;Petrol&#x27;], dtype=object)]),\n",
       "                                 [&#x27;name&#x27;, &#x27;company&#x27;, &#x27;fuel_type&#x27;])])</pre></div></div></div><div class=\"sk-parallel\"><div class=\"sk-parallel-item\"><div class=\"sk-item\"><div class=\"sk-label-container\"><div class=\"sk-label sk-toggleable\"><input class=\"sk-toggleable__control sk-hidden--visually\" id=\"sk-estimator-id-4\" type=\"checkbox\" ><label for=\"sk-estimator-id-4\" class=\"sk-toggleable__label sk-toggleable__label-arrow\">onehotencoder</label><div class=\"sk-toggleable__content\"><pre>[&#x27;name&#x27;, &#x27;company&#x27;, &#x27;fuel_type&#x27;]</pre></div></div></div><div class=\"sk-serial\"><div class=\"sk-item\"><div class=\"sk-estimator sk-toggleable\"><input class=\"sk-toggleable__control sk-hidden--visually\" id=\"sk-estimator-id-5\" type=\"checkbox\" ><label for=\"sk-estimator-id-5\" class=\"sk-toggleable__label sk-toggleable__label-arrow\">OneHotEncoder</label><div class=\"sk-toggleable__content\"><pre>OneHotEncoder(categories=[array([&#x27;Audi A3 Cabriolet&#x27;, &#x27;Audi A4 1.8&#x27;, &#x27;Audi A4 2.0&#x27;, &#x27;Audi A6 2.0&#x27;,\n",
       "       &#x27;Audi A8&#x27;, &#x27;Audi Q3 2.0&#x27;, &#x27;Audi Q5 2.0&#x27;, &#x27;Audi Q7&#x27;, &#x27;BMW 3 Series&#x27;,\n",
       "       &#x27;BMW 5 Series&#x27;, &#x27;BMW 7 Series&#x27;, &#x27;BMW X1&#x27;, &#x27;BMW X1 sDrive20d&#x27;,\n",
       "       &#x27;BMW X1 xDrive20d&#x27;, &#x27;Chevrolet Beat&#x27;, &#x27;Chevrolet Beat Diesel&#x27;,\n",
       "       &#x27;Chevrolet Beat LS&#x27;, &#x27;Chevrolet Beat LT&#x27;, &#x27;Chevrolet Beat PS&#x27;,\n",
       "       &#x27;Chevrolet Cruze LTZ&#x27;, &#x27;Chevrolet Enjoy&#x27;, &#x27;Chevrolet E...\n",
       "       &#x27;Volkswagen Vento Comfortline&#x27;, &#x27;Volkswagen Vento Highline&#x27;,\n",
       "       &#x27;Volkswagen Vento Konekt&#x27;, &#x27;Volvo S80 Summum&#x27;], dtype=object),\n",
       "                          array([&#x27;Audi&#x27;, &#x27;BMW&#x27;, &#x27;Chevrolet&#x27;, &#x27;Datsun&#x27;, &#x27;Fiat&#x27;, &#x27;Force&#x27;, &#x27;Ford&#x27;,\n",
       "       &#x27;Hindustan&#x27;, &#x27;Honda&#x27;, &#x27;Hyundai&#x27;, &#x27;Jaguar&#x27;, &#x27;Jeep&#x27;, &#x27;Land&#x27;,\n",
       "       &#x27;Mahindra&#x27;, &#x27;Maruti&#x27;, &#x27;Mercedes&#x27;, &#x27;Mini&#x27;, &#x27;Mitsubishi&#x27;, &#x27;Nissan&#x27;,\n",
       "       &#x27;Renault&#x27;, &#x27;Skoda&#x27;, &#x27;Tata&#x27;, &#x27;Toyota&#x27;, &#x27;Volkswagen&#x27;, &#x27;Volvo&#x27;],\n",
       "      dtype=object),\n",
       "                          array([&#x27;Diesel&#x27;, &#x27;LPG&#x27;, &#x27;Petrol&#x27;], dtype=object)])</pre></div></div></div></div></div></div><div class=\"sk-parallel-item\"><div class=\"sk-item\"><div class=\"sk-label-container\"><div class=\"sk-label sk-toggleable\"><input class=\"sk-toggleable__control sk-hidden--visually\" id=\"sk-estimator-id-6\" type=\"checkbox\" ><label for=\"sk-estimator-id-6\" class=\"sk-toggleable__label sk-toggleable__label-arrow\">remainder</label><div class=\"sk-toggleable__content\"><pre>[&#x27;year&#x27;, &#x27;kms_driven&#x27;]</pre></div></div></div><div class=\"sk-serial\"><div class=\"sk-item\"><div class=\"sk-estimator sk-toggleable\"><input class=\"sk-toggleable__control sk-hidden--visually\" id=\"sk-estimator-id-7\" type=\"checkbox\" ><label for=\"sk-estimator-id-7\" class=\"sk-toggleable__label sk-toggleable__label-arrow\">passthrough</label><div class=\"sk-toggleable__content\"><pre>passthrough</pre></div></div></div></div></div></div></div></div><div class=\"sk-item\"><div class=\"sk-estimator sk-toggleable\"><input class=\"sk-toggleable__control sk-hidden--visually\" id=\"sk-estimator-id-8\" type=\"checkbox\" ><label for=\"sk-estimator-id-8\" class=\"sk-toggleable__label sk-toggleable__label-arrow\">LinearRegression</label><div class=\"sk-toggleable__content\"><pre>LinearRegression()</pre></div></div></div></div></div></div></div>"
      ],
      "text/plain": [
       "Pipeline(steps=[('columntransformer',\n",
       "                 ColumnTransformer(remainder='passthrough',\n",
       "                                   transformers=[('onehotencoder',\n",
       "                                                  OneHotEncoder(categories=[array(['Audi A3 Cabriolet', 'Audi A4 1.8', 'Audi A4 2.0', 'Audi A6 2.0',\n",
       "       'Audi A8', 'Audi Q3 2.0', 'Audi Q5 2.0', 'Audi Q7', 'BMW 3 Series',\n",
       "       'BMW 5 Series', 'BMW 7 Series', 'BMW X1', 'BMW X1 sDrive20d',\n",
       "       'BMW X1 xDrive20d', 'Chevrolet Beat', 'Chevrolet Beat...\n",
       "                                                                            array(['Audi', 'BMW', 'Chevrolet', 'Datsun', 'Fiat', 'Force', 'Ford',\n",
       "       'Hindustan', 'Honda', 'Hyundai', 'Jaguar', 'Jeep', 'Land',\n",
       "       'Mahindra', 'Maruti', 'Mercedes', 'Mini', 'Mitsubishi', 'Nissan',\n",
       "       'Renault', 'Skoda', 'Tata', 'Toyota', 'Volkswagen', 'Volvo'],\n",
       "      dtype=object),\n",
       "                                                                            array(['Diesel', 'LPG', 'Petrol'], dtype=object)]),\n",
       "                                                  ['name', 'company',\n",
       "                                                   'fuel_type'])])),\n",
       "                ('linearregression', LinearRegression())])"
      ]
     },
     "execution_count": 38,
     "metadata": {},
     "output_type": "execute_result"
    }
   ],
   "source": [
    "pipe.fit(X_train,y_train)"
   ]
  },
  {
   "cell_type": "code",
   "execution_count": 39,
   "id": "1a065f9d",
   "metadata": {},
   "outputs": [
    {
     "data": {
      "text/plain": [
       "0.573163946242421"
      ]
     },
     "execution_count": 39,
     "metadata": {},
     "output_type": "execute_result"
    }
   ],
   "source": [
    "ypred = pipe.predict(X_test)\n",
    "r2_score(y_test,ypred)"
   ]
  },
  {
   "cell_type": "code",
   "execution_count": 40,
   "id": "1e1c62d9",
   "metadata": {},
   "outputs": [],
   "source": [
    "score=[]\n",
    "\n",
    "for  i in range(500):\n",
    "    X_train,X_test,y_train,y_test = train_test_split(X,y,test_size=0.2,\n",
    "                                                 random_state=i)\n",
    "    lr = LinearRegression()\n",
    "    pipe = make_pipeline(col_trans,lr)\n",
    "    pipe.fit(X_train,y_train)\n",
    "    ypred = pipe.predict(X_test)\n",
    "    score.append(r2_score(y_test,ypred))"
   ]
  },
  {
   "cell_type": "code",
   "execution_count": 41,
   "id": "367ad35c",
   "metadata": {},
   "outputs": [
    {
     "data": {
      "text/plain": [
       "433"
      ]
     },
     "execution_count": 41,
     "metadata": {},
     "output_type": "execute_result"
    }
   ],
   "source": [
    "np.argmax(score)"
   ]
  },
  {
   "cell_type": "code",
   "execution_count": 42,
   "id": "c305df95",
   "metadata": {},
   "outputs": [
    {
     "data": {
      "text/plain": [
       "0.8457042416667213"
      ]
     },
     "execution_count": 42,
     "metadata": {},
     "output_type": "execute_result"
    }
   ],
   "source": [
    "score[np.argmax(score)]"
   ]
  },
  {
   "cell_type": "code",
   "execution_count": 44,
   "id": "0c53757a",
   "metadata": {},
   "outputs": [
    {
     "data": {
      "text/plain": [
       "0.8457042416667213"
      ]
     },
     "execution_count": 44,
     "metadata": {},
     "output_type": "execute_result"
    }
   ],
   "source": [
    "X_train,X_test,y_train,y_test = train_test_split(X,y,test_size=0.2,\n",
    "                                                 random_state=np.argmax(score))\n",
    "lr = LinearRegression()\n",
    "pipe = make_pipeline(col_trans,lr)\n",
    "pipe.fit(X_train,y_train)\n",
    "ypred = pipe.predict(X_test)\n",
    "r2_score(y_test,ypred)"
   ]
  },
  {
   "cell_type": "code",
   "execution_count": 45,
   "id": "123161eb",
   "metadata": {},
   "outputs": [],
   "source": [
    "import pickle"
   ]
  },
  {
   "cell_type": "code",
   "execution_count": 46,
   "id": "57a087a8",
   "metadata": {},
   "outputs": [],
   "source": [
    "pickle.dump(pipe,open('CarLR.pkl','wb'))"
   ]
  },
  {
   "cell_type": "code",
   "execution_count": null,
   "id": "984fa276",
   "metadata": {},
   "outputs": [],
   "source": []
  }
 ],
 "metadata": {
  "kernelspec": {
   "display_name": "Python 3 (ipykernel)",
   "language": "python",
   "name": "python3"
  },
  "language_info": {
   "codemirror_mode": {
    "name": "ipython",
    "version": 3
   },
   "file_extension": ".py",
   "mimetype": "text/x-python",
   "name": "python",
   "nbconvert_exporter": "python",
   "pygments_lexer": "ipython3",
   "version": "3.11.4"
  }
 },
 "nbformat": 4,
 "nbformat_minor": 5
}
