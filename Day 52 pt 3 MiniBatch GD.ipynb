{
 "cells": [
  {
   "cell_type": "code",
   "execution_count": 1,
   "id": "b66c6e44",
   "metadata": {},
   "outputs": [],
   "source": [
    "from sklearn.datasets import load_diabetes\n",
    "from sklearn.model_selection import train_test_split\n",
    "from sklearn.metrics import r2_score\n",
    "from sklearn.linear_model import LinearRegression\n",
    "import numpy as np\n",
    "import random"
   ]
  },
  {
   "cell_type": "code",
   "execution_count": 2,
   "id": "05f11ceb",
   "metadata": {},
   "outputs": [],
   "source": [
    "X,y=load_diabetes(return_X_y=True)"
   ]
  },
  {
   "cell_type": "code",
   "execution_count": 3,
   "id": "d3a8470b",
   "metadata": {},
   "outputs": [],
   "source": [
    "X_train,X_test,y_train,y_test=train_test_split(X,y,test_size=0.2,\n",
    "                                               random_state=2)"
   ]
  },
  {
   "cell_type": "code",
   "execution_count": null,
   "id": "6aaaaacc",
   "metadata": {},
   "outputs": [],
   "source": [
    "class SGDreg:\n",
    "    def __init__(self,lr=0.1,epoch=100):\n",
    "        self.coef = None\n",
    "        self.intercept = None\n",
    "        self.lr=lr\n",
    "        self.epoch=epoch\n",
    "    \n",
    "    def fit(self,X_train,y_train):\n",
    "        self.intercept=0\n",
    "        self.coef=np.ones(X_train.shape[1])\n",
    "        for i in range(self.epoch):\n",
    "            for j in range(X.shape[0]):\n",
    "                idx = np.random.randint(0,X_train.shape[0])\n",
    "                y_hat = self.intercept + np.dot(X_train[idx],self.coef)\n",
    "                i_slope= -2*(y_train[idx]-y_hat)\n",
    "                self.intercept = self.intercept - self.lr*i_slope\n",
    "                \n",
    "                c_slope = - 2*np.dot((y_train[idx]-y_hat),X_train[idx])\n",
    "                self.coef = self.coef - (self.lr*c_slope)\n",
    "    \n",
    "    def predict(self,X_t):\n",
    "        return np.dot(X_t,self.coef) + self.intercept"
   ]
  },
  {
   "cell_type": "code",
   "execution_count": 57,
   "id": "a8a11316",
   "metadata": {},
   "outputs": [],
   "source": [
    "class MBGDreg:\n",
    "    def __init__(self,batch_size,lr=0.1,epoch=100):\n",
    "        self.coef = None\n",
    "        self.intercept = None\n",
    "        self.lr=lr\n",
    "        self.epoch=epoch\n",
    "        self.batch=batch_size\n",
    "    \n",
    "    def fit(self,X_train,y_train):\n",
    "        self.intercept=0\n",
    "        self.coef=np.ones(X_train.shape[1])\n",
    "        for i in range(self.epoch):\n",
    "            for j in range(int(X_train.shape[0]/self.batch)):\n",
    "                \n",
    "                idx = random.sample(range(X_train.shape[0]),self.batch)\n",
    "                y_hat = np.dot(X_train[idx],self.coef) + self.intercept\n",
    "                \n",
    "                i_slope = -2*np.mean(y_train[idx]-y_hat)\n",
    "                self.intercept = self.intercept - self.lr*i_slope\n",
    "                \n",
    "                c_slope = -2*np.dot((y_train[idx]-y_hat),X_train[idx])\n",
    "                self.coef =  self.coef - self.lr*c_slope\n",
    "        print(self.intercept,self.coef)\n",
    "        \n",
    "    \n",
    "    def predict(self,X_t):\n",
    "        return np.dot(X_t,self.coef) + self.intercept"
   ]
  },
  {
   "cell_type": "code",
   "execution_count": 65,
   "id": "cc029a40",
   "metadata": {},
   "outputs": [],
   "source": [
    "mb = MBGDreg(batch_size=15)"
   ]
  },
  {
   "cell_type": "code",
   "execution_count": 66,
   "id": "edf9b880",
   "metadata": {},
   "outputs": [
    {
     "name": "stdout",
     "output_type": "stream",
     "text": [
      "149.42136108725668 [ -20.99497717 -185.60945174  548.85135683  322.2313566  -139.72354069\n",
      "  -52.01372624 -173.12858689   57.83503495  559.05810372   49.84091775]\n"
     ]
    }
   ],
   "source": [
    "mb.fit(X_train,y_train)"
   ]
  },
  {
   "cell_type": "code",
   "execution_count": 67,
   "id": "82dc79ff",
   "metadata": {},
   "outputs": [],
   "source": [
    "y_pred= mb.predict(X_test)"
   ]
  },
  {
   "cell_type": "code",
   "execution_count": 68,
   "id": "61ef9550",
   "metadata": {},
   "outputs": [
    {
     "data": {
      "text/plain": [
       "0.44352712849039444"
      ]
     },
     "execution_count": 68,
     "metadata": {},
     "output_type": "execute_result"
    }
   ],
   "source": [
    "r2_score(y_test,y_pred)"
   ]
  },
  {
   "cell_type": "code",
   "execution_count": null,
   "id": "d0719a6a",
   "metadata": {},
   "outputs": [],
   "source": []
  }
 ],
 "metadata": {
  "kernelspec": {
   "display_name": "Python 3 (ipykernel)",
   "language": "python",
   "name": "python3"
  },
  "language_info": {
   "codemirror_mode": {
    "name": "ipython",
    "version": 3
   },
   "file_extension": ".py",
   "mimetype": "text/x-python",
   "name": "python",
   "nbconvert_exporter": "python",
   "pygments_lexer": "ipython3",
   "version": "3.11.4"
  }
 },
 "nbformat": 4,
 "nbformat_minor": 5
}
