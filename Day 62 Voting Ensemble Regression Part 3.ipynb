{
 "cells": [
  {
   "cell_type": "code",
   "execution_count": 44,
   "id": "2b377ffd",
   "metadata": {},
   "outputs": [],
   "source": [
    "import numpy as np"
   ]
  },
  {
   "cell_type": "code",
   "execution_count": 5,
   "id": "1cf30110",
   "metadata": {},
   "outputs": [],
   "source": [
    "    import pandas as pd\n",
    "    import numpy as np\n",
    "\n",
    "    data_url = \"http://lib.stat.cmu.edu/datasets/boston\"\n",
    "    raw_df = pd.read_csv(data_url, sep=\"\\s+\", skiprows=22, header=None)\n",
    "    data = np.hstack([raw_df.values[::2, :], raw_df.values[1::2, :2]])\n",
    "    target = raw_df.values[1::2, 2]"
   ]
  },
  {
   "cell_type": "code",
   "execution_count": 9,
   "id": "aaad2231",
   "metadata": {},
   "outputs": [],
   "source": [
    "X= data"
   ]
  },
  {
   "cell_type": "code",
   "execution_count": 8,
   "id": "c993e9b5",
   "metadata": {},
   "outputs": [],
   "source": [
    "y=target"
   ]
  },
  {
   "cell_type": "code",
   "execution_count": 11,
   "id": "a0caf684",
   "metadata": {},
   "outputs": [],
   "source": [
    "from sklearn.linear_model import LinearRegression\n",
    "from sklearn.tree import DecisionTreeRegressor\n",
    "from sklearn.svm import SVR\n",
    "from sklearn.model_selection import cross_val_score"
   ]
  },
  {
   "cell_type": "code",
   "execution_count": 12,
   "id": "b9b6c2e4",
   "metadata": {},
   "outputs": [],
   "source": [
    "lr = LinearRegression()\n",
    "dt= DecisionTreeRegressor()\n",
    "svr =SVR()"
   ]
  },
  {
   "cell_type": "code",
   "execution_count": 15,
   "id": "39be87ab",
   "metadata": {},
   "outputs": [],
   "source": [
    "estimator =[('lr',lr),('dt',dt),('svr',svr)]"
   ]
  },
  {
   "cell_type": "code",
   "execution_count": 23,
   "id": "b2288686",
   "metadata": {},
   "outputs": [
    {
     "name": "stdout",
     "output_type": "stream",
     "text": [
      "lr 0.20252899006055994\n",
      "dt -0.26172727676181246\n",
      "svr -0.410969915742508\n"
     ]
    }
   ],
   "source": [
    "for i in estimator:\n",
    "    print(i[0],(cross_val_score(i[1],X,y,cv=10,scoring='r2')).mean())"
   ]
  },
  {
   "cell_type": "code",
   "execution_count": 24,
   "id": "f31c49a9",
   "metadata": {},
   "outputs": [],
   "source": [
    "from sklearn.ensemble import VotingRegressor"
   ]
  },
  {
   "cell_type": "code",
   "execution_count": 25,
   "id": "f11ebf3c",
   "metadata": {},
   "outputs": [],
   "source": [
    "vr = VotingRegressor(estimators=estimator)"
   ]
  },
  {
   "cell_type": "code",
   "execution_count": 26,
   "id": "2046c4f2",
   "metadata": {},
   "outputs": [
    {
     "data": {
      "text/plain": [
       "0.43883589143547885"
      ]
     },
     "execution_count": 26,
     "metadata": {},
     "output_type": "execute_result"
    }
   ],
   "source": [
    "(cross_val_score(vr,X,y,scoring='r2',cv=10)).mean()"
   ]
  },
  {
   "cell_type": "code",
   "execution_count": 38,
   "id": "c5d51219",
   "metadata": {},
   "outputs": [
    {
     "name": "stdout",
     "output_type": "stream",
     "text": [
      "i,j,k 1 1 1 == 0.44\n",
      "i,j,k 1 1 2 == 0.36\n",
      "i,j,k 1 1 3 == 0.26\n",
      "i,j,k 1 2 1 == 0.4\n",
      "i,j,k 1 2 2 == 0.4\n",
      "i,j,k 1 2 3 == 0.35\n",
      "i,j,k 1 3 1 == 0.4\n",
      "i,j,k 1 3 2 == 0.38\n",
      "i,j,k 1 3 3 == 0.38\n",
      "i,j,k 2 1 1 == 0.45\n",
      "i,j,k 2 1 2 == 0.42\n",
      "i,j,k 2 1 3 == 0.36\n",
      "i,j,k 2 2 1 == 0.44\n",
      "i,j,k 2 2 2 == 0.44\n",
      "i,j,k 2 2 3 == 0.42\n",
      "i,j,k 2 3 1 == 0.43\n",
      "i,j,k 2 3 2 == 0.44\n",
      "i,j,k 2 3 3 == 0.42\n",
      "i,j,k 3 1 1 == 0.43\n",
      "i,j,k 3 1 2 == 0.43\n",
      "i,j,k 3 1 3 == 0.39\n",
      "i,j,k 3 2 1 == 0.45\n",
      "i,j,k 3 2 2 == 0.45\n",
      "i,j,k 3 2 3 == 0.43\n",
      "i,j,k 3 3 1 == 0.44\n",
      "i,j,k 3 3 2 == 0.44\n",
      "i,j,k 3 3 3 == 0.44\n",
      "max= 0.46\n"
     ]
    }
   ],
   "source": [
    "m1=0\n",
    "for i in range(1,4):\n",
    "    for j in range(1,4):\n",
    "        for k in range(1,4):\n",
    "            vr = VotingRegressor(estimators=estimator, weights=[i,j,k])\n",
    "            print('i,j,k',i,j,k,\"==\",np.round(((cross_val_score(vr,X,y,cv=10,scoring='r2')).mean()),2))\n",
    "            if m1<np.round(((cross_val_score(vr,X,y,cv=10,scoring='r2')).mean()),2):\n",
    "                m1=np.round(((cross_val_score(vr,X,y,cv=10,scoring='r2')).mean()),2)\n",
    "print('max=',m1)"
   ]
  },
  {
   "cell_type": "code",
   "execution_count": 39,
   "id": "55ce276a",
   "metadata": {},
   "outputs": [],
   "source": [
    "dt1 = DecisionTreeRegressor(max_depth=1)\n",
    "dt2 = DecisionTreeRegressor(max_depth=2)\n",
    "dt3 = DecisionTreeRegressor(max_depth=3)\n",
    "dt4 = DecisionTreeRegressor(max_depth=5)\n",
    "dt5 = DecisionTreeRegressor(max_depth=7)"
   ]
  },
  {
   "cell_type": "code",
   "execution_count": 40,
   "id": "63b65ecb",
   "metadata": {},
   "outputs": [],
   "source": [
    "estimator = [('dt1',dt1),('dt2',dt2),('dt3',dt3),('dt4',dt4),('dt5',dt5)]"
   ]
  },
  {
   "cell_type": "code",
   "execution_count": 41,
   "id": "958716c9",
   "metadata": {},
   "outputs": [
    {
     "name": "stdout",
     "output_type": "stream",
     "text": [
      "for dt1 -0.85\n",
      "for dt2 -0.07\n",
      "for dt3 -0.11\n",
      "for dt4 -0.09\n",
      "for dt5 0.06\n"
     ]
    }
   ],
   "source": [
    "for i in estimator:\n",
    "    \n",
    "    print('for',i[0],np.round((cross_val_score(i[1],X,y,scoring='r2',cv=10)).mean(),2))"
   ]
  },
  {
   "cell_type": "code",
   "execution_count": 42,
   "id": "4482b98f",
   "metadata": {},
   "outputs": [],
   "source": [
    "vr = VotingRegressor(estimators=estimator)"
   ]
  },
  {
   "cell_type": "code",
   "execution_count": 43,
   "id": "d1e08da8",
   "metadata": {},
   "outputs": [
    {
     "data": {
      "text/plain": [
       "0.19086462659965905"
      ]
     },
     "execution_count": 43,
     "metadata": {},
     "output_type": "execute_result"
    }
   ],
   "source": [
    "cross_val_score(vr,X,y,cv=10,scoring='r2').mean()"
   ]
  },
  {
   "cell_type": "code",
   "execution_count": null,
   "id": "db3c787d",
   "metadata": {},
   "outputs": [],
   "source": []
  }
 ],
 "metadata": {
  "kernelspec": {
   "display_name": "Python 3 (ipykernel)",
   "language": "python",
   "name": "python3"
  },
  "language_info": {
   "codemirror_mode": {
    "name": "ipython",
    "version": 3
   },
   "file_extension": ".py",
   "mimetype": "text/x-python",
   "name": "python",
   "nbconvert_exporter": "python",
   "pygments_lexer": "ipython3",
   "version": "3.11.4"
  }
 },
 "nbformat": 4,
 "nbformat_minor": 5
}
